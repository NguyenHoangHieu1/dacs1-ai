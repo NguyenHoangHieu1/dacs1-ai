{
 "cells": [
  {
   "cell_type": "code",
   "execution_count": 6,
   "id": "5db65b28-c525-4766-a0b1-7cbbaac3a560",
   "metadata": {},
   "outputs": [
    {
     "name": "stdout",
     "output_type": "stream",
     "text": [
      "Đang xử lý 4904 video bằng 12 core...\n"
     ]
    },
    {
     "ename": "RuntimeError",
     "evalue": "Could not infer dtype of numpy.float32",
     "output_type": "error",
     "traceback": [
      "\u001b[0;31m---------------------------------------------------------------------------\u001b[0m",
      "\u001b[0;31mRemoteTraceback\u001b[0m                           Traceback (most recent call last)",
      "\u001b[0;31mRemoteTraceback\u001b[0m: \n\"\"\"\nTraceback (most recent call last):\n  File \"/home/avc/miniconda3/envs/aifix/lib/python3.9/multiprocessing/pool.py\", line 125, in worker\n    result = (True, func(*args, **kwds))\n  File \"/tmp/ipykernel_83307/2137156726.py\", line 66, in process_video\n    faces = extract_random_faces(video_path)\n  File \"/tmp/ipykernel_83307/2137156726.py\", line 41, in extract_random_faces\n    boxes, _ = mtcnn.detect(rgb)\n  File \"/home/avc/miniconda3/envs/aifix/lib/python3.9/site-packages/facenet_pytorch/models/mtcnn.py\", line 313, in detect\n    batch_boxes, batch_points = detect_face(\n  File \"/home/avc/miniconda3/envs/aifix/lib/python3.9/site-packages/facenet_pytorch/models/utils/detect_face.py\", line 28, in detect_face\n    imgs = torch.as_tensor(imgs.copy(), device=device)\nRuntimeError: Could not infer dtype of numpy.float32\n\"\"\"",
      "\nThe above exception was the direct cause of the following exception:\n",
      "\u001b[0;31mRuntimeError\u001b[0m                              Traceback (most recent call last)",
      "Cell \u001b[0;32mIn[6], line 94\u001b[0m\n\u001b[1;32m     92\u001b[0m all_results \u001b[38;5;241m=\u001b[39m []\n\u001b[1;32m     93\u001b[0m \u001b[38;5;28;01mwith\u001b[39;00m Pool(processes\u001b[38;5;241m=\u001b[39mcpu_count()) \u001b[38;5;28;01mas\u001b[39;00m pool:\n\u001b[0;32m---> 94\u001b[0m     \u001b[38;5;28;01mfor\u001b[39;00m result \u001b[38;5;129;01min\u001b[39;00m pool\u001b[38;5;241m.\u001b[39mimap_unordered(process_video, all_videos):\n\u001b[1;32m     95\u001b[0m         all_results\u001b[38;5;241m.\u001b[39mextend(result)\n\u001b[1;32m     97\u001b[0m \u001b[38;5;28mprint\u001b[39m(\u001b[38;5;124mf\u001b[39m\u001b[38;5;124m\"\u001b[39m\u001b[38;5;124mXử lý xong, tổng số ảnh: \u001b[39m\u001b[38;5;132;01m{\u001b[39;00m\u001b[38;5;28mlen\u001b[39m(all_results)\u001b[38;5;132;01m}\u001b[39;00m\u001b[38;5;124m\"\u001b[39m)\n",
      "File \u001b[0;32m~/miniconda3/envs/aifix/lib/python3.9/multiprocessing/pool.py:870\u001b[0m, in \u001b[0;36mIMapIterator.next\u001b[0;34m(self, timeout)\u001b[0m\n\u001b[1;32m    868\u001b[0m \u001b[38;5;28;01mif\u001b[39;00m success:\n\u001b[1;32m    869\u001b[0m     \u001b[38;5;28;01mreturn\u001b[39;00m value\n\u001b[0;32m--> 870\u001b[0m \u001b[38;5;28;01mraise\u001b[39;00m value\n",
      "\u001b[0;31mRuntimeError\u001b[0m: Could not infer dtype of numpy.float32"
     ]
    }
   ],
   "source": [
    "import os\n",
    "import cv2\n",
    "import numpy as np\n",
    "import pickle\n",
    "import random\n",
    "from multiprocessing import Pool, cpu_count\n",
    "\n",
    "# Cấu hình thư mục\n",
    "data_dir = './'  # Thư mục chứa dữ liệu\n",
    "output_dir = './processed_frames'\n",
    "os.makedirs(output_dir, exist_ok=True)\n",
    "\n",
    "# Bản đồ cảm xúc\n",
    "emotions_map = {\n",
    "    '01': 'neutral', '02': 'calm', '03': 'happy', '04': 'sad',\n",
    "    '05': 'angry', '06': 'fear', '07': 'disgust', '08': 'surprise'\n",
    "}\n",
    "\n",
    "# Lấy faces ngẫu nhiên từ video\n",
    "def extract_random_faces(video_path, max_faces=10, frame_size=(64, 64), sample_frames=5):\n",
    "    faces = []\n",
    "    face_cascade = cv2.CascadeClassifier(cv2.data.haarcascades + 'haarcascade_frontalface_default.xml')\n",
    "    cap = cv2.VideoCapture(video_path)\n",
    "    total_frames = int(cap.get(cv2.CAP_PROP_FRAME_COUNT))\n",
    "    if total_frames < 2:\n",
    "        cap.release()\n",
    "        return faces\n",
    "\n",
    "    frame_indices = sorted(random.sample(range(total_frames), min(sample_frames, total_frames)))\n",
    "\n",
    "    for i in frame_indices:\n",
    "        cap.set(cv2.CAP_PROP_POS_FRAMES, i)\n",
    "        ret, frame = cap.read()\n",
    "        if not ret:\n",
    "            continue\n",
    "        small = cv2.resize(frame, (0, 0), fx=0.5, fy=0.5)\n",
    "        gray = cv2.cvtColor(small, cv2.COLOR_BGR2GRAY)\n",
    "        faces_detected = face_cascade.detectMultiScale(gray, scaleFactor=1.1, minNeighbors=5)\n",
    "        if len(faces_detected) > 0:\n",
    "            (x, y, w, h) = max(faces_detected, key=lambda rect: rect[2] * rect[3])\n",
    "            x, y, w, h = x*2, y*2, w*2, h*2\n",
    "            face = frame[y:y+h, x:x+w]\n",
    "            face = cv2.resize(face, frame_size)\n",
    "            faces.append(face)\n",
    "        if len(faces) >= max_faces:\n",
    "            break\n",
    "\n",
    "    cap.release()\n",
    "    return faces\n",
    "\n",
    "# Hàm xử lý 1 video (dùng cho multiprocessing)\n",
    "def process_video(args):\n",
    "    subfolder_path, file = args\n",
    "    emotion_code = file.split('-')[2]\n",
    "    emotion = emotions_map.get(emotion_code)\n",
    "    if not emotion:\n",
    "        return []\n",
    "\n",
    "    video_path = os.path.join(subfolder_path, file)\n",
    "    faces = extract_random_faces(video_path)\n",
    "\n",
    "    results = []\n",
    "    for idx, face in enumerate(faces):\n",
    "        out_name = f\"{file.replace('.mp4', '')}_frame{idx}.jpg\"\n",
    "        output_path = os.path.join(output_dir, out_name)\n",
    "        if not os.path.exists(output_path):\n",
    "            cv2.imwrite(output_path, cv2.cvtColor(face, cv2.COLOR_RGB2BGR))\n",
    "        results.append((output_path, emotion))\n",
    "    return results\n",
    "\n",
    "# Tìm tất cả video cần xử lý\n",
    "all_videos = []\n",
    "for actor_folder in os.listdir(data_dir):\n",
    "    actor_path = os.path.join(data_dir, actor_folder)\n",
    "    if os.path.isdir(actor_path) and ('Video_Speech_Actor_' in actor_folder or 'Video_Song_Actor_' in actor_folder):\n",
    "        for subfolder in os.listdir(actor_path):\n",
    "            subfolder_path = os.path.join(actor_path, subfolder)\n",
    "            if os.path.isdir(subfolder_path) and subfolder.startswith('Actor_'):\n",
    "                for file in os.listdir(subfolder_path):\n",
    "                    if file.endswith('.mp4'):\n",
    "                        all_videos.append((subfolder_path, file))\n",
    "\n",
    "print(f\"Đang xử lý {len(all_videos)} video bằng {cpu_count()} core...\")\n",
    "\n",
    "# Dùng multiprocessing để tăng tốc\n",
    "all_results = []\n",
    "with Pool(processes=cpu_count()) as pool:\n",
    "    for result in pool.imap_unordered(process_video, all_videos):\n",
    "        all_results.extend(result)\n",
    "\n",
    "print(f\"Xử lý xong, tổng số ảnh: {len(all_results)}\")\n",
    "\n",
    "# Chia nhỏ và lưu ra nhiều file pkl\n",
    "batch_size = 1000\n",
    "for i in range(0, len(all_results), batch_size):\n",
    "    batch = all_results[i:i+batch_size]\n",
    "    image_paths, labels = zip(*batch)\n",
    "    with open(f\"image_paths_labels_batch{i//batch_size + 1}.pkl\", \"wb\") as f:\n",
    "        pickle.dump((image_paths, labels), f)\n",
    "    print(f\"Đã lưu batch {i//batch_size + 1} với {len(batch)} ảnh.\")\n",
    "\n"
   ]
  },
  {
   "cell_type": "code",
   "execution_count": 4,
   "id": "619875d0-a867-4b7b-9191-cf84b759a404",
   "metadata": {},
   "outputs": [
    {
     "data": {
      "text/plain": [
       "'cuda'"
      ]
     },
     "execution_count": 4,
     "metadata": {},
     "output_type": "execute_result"
    }
   ],
   "source": [
    "import torch\n",
    "'cuda' if torch.cuda.is_available() else 'cpu'"
   ]
  },
  {
   "cell_type": "code",
   "execution_count": null,
   "id": "2555100c-d1e7-4fe3-9ad9-6935be3d4675",
   "metadata": {},
   "outputs": [],
   "source": []
  }
 ],
 "metadata": {
  "kernelspec": {
   "display_name": "Python 3 (ipykernel)",
   "language": "python",
   "name": "python3"
  },
  "language_info": {
   "codemirror_mode": {
    "name": "ipython",
    "version": 3
   },
   "file_extension": ".py",
   "mimetype": "text/x-python",
   "name": "python",
   "nbconvert_exporter": "python",
   "pygments_lexer": "ipython3",
   "version": "3.9.21"
  }
 },
 "nbformat": 4,
 "nbformat_minor": 5
}
